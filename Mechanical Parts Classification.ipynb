{
 "cells": [
  {
   "cell_type": "code",
   "execution_count": 26,
   "metadata": {},
   "outputs": [],
   "source": [
    "#import image datagenerator library\n",
    "from tensorflow.keras.preprocessing.image import ImageDataGenerator"
   ]
  },
  {
   "cell_type": "code",
   "execution_count": 27,
   "metadata": {},
   "outputs": [],
   "source": [
    "train_datagen = ImageDataGenerator(rescale=1./255,\n",
    "                                   shear_range=0.1,\n",
    "                                   zoom_range=0.1,\n",
    "                                   zca_epsilon=1e-06,\n",
    "                                   horizontal_flip=True)"
   ]
  },
  {
   "cell_type": "code",
   "execution_count": 28,
   "metadata": {},
   "outputs": [],
   "source": [
    "val_datagen = ImageDataGenerator(rescale = 1./255)"
   ]
  },
  {
   "cell_type": "code",
   "execution_count": 29,
   "metadata": {},
   "outputs": [
    {
     "name": "stdout",
     "output_type": "stream",
     "text": [
      "Found 7616 images belonging to 4 classes.\n"
     ]
    }
   ],
   "source": [
    "train_transform = train_datagen.flow_from_directory(r'./dataset/train',\n",
    "                                            target_size=(100,100),\n",
    "                                            batch_size=128,\n",
    "                                            class_mode='categorical')"
   ]
  },
  {
   "cell_type": "code",
   "execution_count": 30,
   "metadata": {},
   "outputs": [
    {
     "name": "stdout",
     "output_type": "stream",
     "text": [
      "Found 2292 images belonging to 4 classes.\n"
     ]
    }
   ],
   "source": [
    "test_transform = val_datagen.flow_from_directory(r'./dataset/val',\n",
    "                                            target_size=(100,100),\n",
    "                                            batch_size=128,\n",
    "                                            class_mode='categorical')"
   ]
  },
  {
   "cell_type": "code",
   "execution_count": 31,
   "metadata": {},
   "outputs": [],
   "source": [
    "#to define linear initializations import Sequential\n",
    "from tensorflow.keras.models import Sequential\n",
    "#To add layers import Dense\n",
    "from tensorflow.keras.layers import Dense\n",
    "# to create a convolution kernel import Convolution2D\n",
    "from tensorflow.keras.layers import Convolution2D\n",
    "# Adding Max pooling Layer\n",
    "from tensorflow.keras.layers import MaxPooling2D\n",
    "# Adding Flatten Layer\n",
    "from tensorflow.keras.layers import Flatten\n",
    "from tensorflow.keras.optimizers import Adam"
   ]
  },
  {
   "cell_type": "code",
   "execution_count": 32,
   "metadata": {},
   "outputs": [],
   "source": [
    "# Initializing the model\n",
    "model=Sequential()"
   ]
  },
  {
   "cell_type": "code",
   "execution_count": 33,
   "metadata": {},
   "outputs": [],
   "source": [
    "model.add(Convolution2D(64,(3,3),input_shape=(100,100,3),activation='relu'))\n",
    "model.add(MaxPooling2D(2,2))"
   ]
  },
  {
   "cell_type": "code",
   "execution_count": 34,
   "metadata": {},
   "outputs": [],
   "source": [
    "model.add(Convolution2D(64,(3,3),activation='relu'))\n",
    "model.add(MaxPooling2D(pool_size=2))"
   ]
  },
  {
   "cell_type": "raw",
   "metadata": {},
   "source": [
    "model.add(Convolution2D(32,(3,3),activation='relu'))\n",
    "model.add(MaxPooling2D(2,2))"
   ]
  },
  {
   "cell_type": "raw",
   "metadata": {},
   "source": [
    "model.add(Convolution2D(32,(3,3), padding='same',activation='relu'))\n",
    "model.add(MaxPooling2D(pool_size=2)) "
   ]
  },
  {
   "cell_type": "code",
   "execution_count": 35,
   "metadata": {},
   "outputs": [],
   "source": [
    "model.add(Flatten()) "
   ]
  },
  {
   "cell_type": "code",
   "execution_count": 36,
   "metadata": {},
   "outputs": [
    {
     "data": {
      "text/plain": [
       "(None, 33856)"
      ]
     },
     "execution_count": 36,
     "metadata": {},
     "output_type": "execute_result"
    }
   ],
   "source": [
    "model.output_shape"
   ]
  },
  {
   "cell_type": "code",
   "execution_count": 37,
   "metadata": {},
   "outputs": [
    {
     "name": "stdout",
     "output_type": "stream",
     "text": [
      "Model: \"sequential_1\"\n",
      "_________________________________________________________________\n",
      "Layer (type)                 Output Shape              Param #   \n",
      "=================================================================\n",
      "conv2d_1 (Conv2D)            (None, 98, 98, 64)        1792      \n",
      "_________________________________________________________________\n",
      "max_pooling2d_1 (MaxPooling2 (None, 49, 49, 64)        0         \n",
      "_________________________________________________________________\n",
      "conv2d_2 (Conv2D)            (None, 47, 47, 64)        36928     \n",
      "_________________________________________________________________\n",
      "max_pooling2d_2 (MaxPooling2 (None, 23, 23, 64)        0         \n",
      "_________________________________________________________________\n",
      "flatten_1 (Flatten)          (None, 33856)             0         \n",
      "=================================================================\n",
      "Total params: 38,720\n",
      "Trainable params: 38,720\n",
      "Non-trainable params: 0\n",
      "_________________________________________________________________\n"
     ]
    }
   ],
   "source": [
    "model.summary()"
   ]
  },
  {
   "cell_type": "code",
   "execution_count": 38,
   "metadata": {},
   "outputs": [],
   "source": [
    "# Adding 1st hidden layer\n",
    "model.add(Dense(kernel_initializer='uniform',activation='relu',units=150))"
   ]
  },
  {
   "cell_type": "code",
   "execution_count": 39,
   "metadata": {},
   "outputs": [],
   "source": [
    "model.add(Dense(kernel_initializer='uniform',activation='relu',units=68))"
   ]
  },
  {
   "cell_type": "code",
   "execution_count": 40,
   "metadata": {},
   "outputs": [],
   "source": [
    "model.add(Dense(kernel_initializer='uniform',activation='softmax',units=4))"
   ]
  },
  {
   "cell_type": "raw",
   "metadata": {},
   "source": [
    "model.compile(loss='categorical_crossentropy', optimizer=Adam(lr=0.001), metrics=['acc'])"
   ]
  },
  {
   "cell_type": "raw",
   "metadata": {},
   "source": [
    "model.add(Dropout(0.5))"
   ]
  },
  {
   "cell_type": "code",
   "execution_count": 41,
   "metadata": {},
   "outputs": [],
   "source": [
    "model.compile(loss='categorical_crossentropy', optimizer='adam', metrics=['acc'])"
   ]
  },
  {
   "cell_type": "code",
   "execution_count": 42,
   "metadata": {},
   "outputs": [
    {
     "name": "stdout",
     "output_type": "stream",
     "text": [
      "Model: \"sequential_1\"\n",
      "_________________________________________________________________\n",
      "Layer (type)                 Output Shape              Param #   \n",
      "=================================================================\n",
      "conv2d_1 (Conv2D)            (None, 98, 98, 64)        1792      \n",
      "_________________________________________________________________\n",
      "max_pooling2d_1 (MaxPooling2 (None, 49, 49, 64)        0         \n",
      "_________________________________________________________________\n",
      "conv2d_2 (Conv2D)            (None, 47, 47, 64)        36928     \n",
      "_________________________________________________________________\n",
      "max_pooling2d_2 (MaxPooling2 (None, 23, 23, 64)        0         \n",
      "_________________________________________________________________\n",
      "flatten_1 (Flatten)          (None, 33856)             0         \n",
      "_________________________________________________________________\n",
      "dense_4 (Dense)              (None, 150)               5078550   \n",
      "_________________________________________________________________\n",
      "dense_5 (Dense)              (None, 68)                10268     \n",
      "_________________________________________________________________\n",
      "dense_6 (Dense)              (None, 4)                 276       \n",
      "=================================================================\n",
      "Total params: 5,127,814\n",
      "Trainable params: 5,127,814\n",
      "Non-trainable params: 0\n",
      "_________________________________________________________________\n"
     ]
    }
   ],
   "source": [
    "model.summary()"
   ]
  },
  {
   "cell_type": "code",
   "execution_count": 43,
   "metadata": {},
   "outputs": [
    {
     "name": "stdout",
     "output_type": "stream",
     "text": [
      "Epoch 1/30\n",
      "59/59 [==============================] - 133s 2s/step - loss: 1.2885 - acc: 0.3797 - val_loss: 0.7450 - val_acc: 0.6705\n",
      "Epoch 2/30\n",
      "59/59 [==============================] - 128s 2s/step - loss: 0.5155 - acc: 0.7988 - val_loss: 0.6814 - val_acc: 0.7146\n",
      "Epoch 3/30\n",
      "59/59 [==============================] - 128s 2s/step - loss: 0.4422 - acc: 0.8327 - val_loss: 0.5805 - val_acc: 0.7790\n",
      "Epoch 4/30\n",
      "59/59 [==============================] - 129s 2s/step - loss: 0.3510 - acc: 0.8766 - val_loss: 0.4852 - val_acc: 0.8263\n",
      "Epoch 5/30\n",
      "59/59 [==============================] - 128s 2s/step - loss: 0.3091 - acc: 0.8857 - val_loss: 0.4842 - val_acc: 0.8470\n",
      "Epoch 6/30\n",
      "59/59 [==============================] - 128s 2s/step - loss: 0.2588 - acc: 0.9090 - val_loss: 0.4213 - val_acc: 0.8534\n",
      "Epoch 7/30\n",
      "59/59 [==============================] - 128s 2s/step - loss: 0.2413 - acc: 0.9155 - val_loss: 0.3801 - val_acc: 0.8667\n",
      "Epoch 8/30\n",
      "59/59 [==============================] - 128s 2s/step - loss: 0.2148 - acc: 0.9189 - val_loss: 0.3651 - val_acc: 0.8778\n",
      "Epoch 9/30\n",
      "59/59 [==============================] - 128s 2s/step - loss: 0.1914 - acc: 0.9332 - val_loss: 0.2762 - val_acc: 0.9044\n",
      "Epoch 10/30\n",
      "59/59 [==============================] - 128s 2s/step - loss: 0.1788 - acc: 0.9375 - val_loss: 0.2013 - val_acc: 0.9200\n",
      "Epoch 11/30\n",
      "59/59 [==============================] - 128s 2s/step - loss: 0.1680 - acc: 0.9422 - val_loss: 0.2335 - val_acc: 0.9237\n",
      "Epoch 12/30\n",
      "59/59 [==============================] - 128s 2s/step - loss: 0.1463 - acc: 0.9460 - val_loss: 0.2268 - val_acc: 0.9118\n",
      "Epoch 13/30\n",
      "59/59 [==============================] - 132s 2s/step - loss: 0.1306 - acc: 0.9550 - val_loss: 0.2240 - val_acc: 0.9118\n",
      "Epoch 14/30\n",
      "59/59 [==============================] - 130s 2s/step - loss: 0.1246 - acc: 0.9559 - val_loss: 0.1545 - val_acc: 0.9444\n",
      "Epoch 15/30\n",
      "59/59 [==============================] - 132s 2s/step - loss: 0.1095 - acc: 0.9606 - val_loss: 0.1601 - val_acc: 0.9398\n",
      "Epoch 16/30\n",
      "59/59 [==============================] - 148s 2s/step - loss: 0.1068 - acc: 0.9601 - val_loss: 0.1850 - val_acc: 0.9347\n",
      "Epoch 17/30\n",
      "59/59 [==============================] - 140s 2s/step - loss: 0.1280 - acc: 0.9562 - val_loss: 0.1589 - val_acc: 0.9366\n",
      "Epoch 18/30\n",
      "59/59 [==============================] - 150s 3s/step - loss: 0.0894 - acc: 0.9724 - val_loss: 0.1388 - val_acc: 0.9485\n",
      "Epoch 19/30\n",
      "59/59 [==============================] - 168s 3s/step - loss: 0.0910 - acc: 0.9675 - val_loss: 0.1255 - val_acc: 0.9531\n",
      "Epoch 20/30\n",
      "59/59 [==============================] - 136s 2s/step - loss: 0.0836 - acc: 0.9693 - val_loss: 0.1036 - val_acc: 0.9623\n",
      "Epoch 21/30\n",
      "59/59 [==============================] - 141s 2s/step - loss: 0.0726 - acc: 0.9748 - val_loss: 0.0820 - val_acc: 0.9651\n",
      "Epoch 22/30\n",
      "59/59 [==============================] - 130s 2s/step - loss: 0.0713 - acc: 0.9733 - val_loss: 0.0702 - val_acc: 0.9724\n",
      "Epoch 23/30\n",
      "59/59 [==============================] - 155s 3s/step - loss: 0.0649 - acc: 0.9789 - val_loss: 0.1138 - val_acc: 0.9559\n",
      "Epoch 24/30\n",
      "59/59 [==============================] - 151s 3s/step - loss: 0.0605 - acc: 0.9796 - val_loss: 0.0937 - val_acc: 0.9632\n",
      "Epoch 25/30\n",
      "59/59 [==============================] - 134s 2s/step - loss: 0.0562 - acc: 0.9818 - val_loss: 0.0627 - val_acc: 0.9752\n",
      "Epoch 26/30\n",
      "59/59 [==============================] - 144s 2s/step - loss: 0.0635 - acc: 0.9782 - val_loss: 0.0783 - val_acc: 0.9710\n",
      "Epoch 27/30\n",
      "59/59 [==============================] - 155s 3s/step - loss: 0.0585 - acc: 0.9775 - val_loss: 0.0724 - val_acc: 0.9747\n",
      "Epoch 28/30\n",
      "59/59 [==============================] - 146s 2s/step - loss: 0.0475 - acc: 0.9832 - val_loss: 0.0717 - val_acc: 0.9706\n",
      "Epoch 29/30\n",
      "59/59 [==============================] - 137s 2s/step - loss: 0.0396 - acc: 0.9874 - val_loss: 0.0415 - val_acc: 0.9839\n",
      "Epoch 30/30\n",
      "59/59 [==============================] - 143s 2s/step - loss: 0.0488 - acc: 0.9845 - val_loss: 0.0512 - val_acc: 0.9853\n"
     ]
    }
   ],
   "source": [
    "res = model.fit_generator(train_transform,steps_per_epoch=7616//128,validation_steps=2292//128,epochs=30,\n",
    "                          validation_data=test_transform)"
   ]
  },
  {
   "cell_type": "code",
   "execution_count": 44,
   "metadata": {},
   "outputs": [],
   "source": [
    "model.save('Mechanical-Parts-1.h5')"
   ]
  },
  {
   "cell_type": "code",
   "execution_count": 161,
   "metadata": {},
   "outputs": [],
   "source": [
    "#import numpy library\n",
    "import numpy as np\n",
    "#import load_model method to load our saved model\n",
    "from tensorflow.keras.models import load_model\n",
    "#import image from keras.preprocessing\n",
    "from tensorflow.keras.preprocessing import image\n",
    "#loading our saved model file\n",
    "model = load_model(\"Mechanical-Parts-1.h5\")\n",
    "img = image.load_img(r\"dataset/val/washer/WM0803_2_5.png\",\n",
    "                     target_size=(100,100))\n",
    "\n",
    "x=image.img_to_array(img) #converting in to array format\n",
    "\n",
    "x=np.expand_dims(x,axis=0) #changing its dimensions as per our requirement \n",
    "#img_data=preprocess_input(x)\n",
    "#img_data.shape"
   ]
  },
  {
   "cell_type": "code",
   "execution_count": 162,
   "metadata": {},
   "outputs": [
    {
     "name": "stdout",
     "output_type": "stream",
     "text": [
      "WARNING:tensorflow:11 out of the last 11 calls to <function Model.make_predict_function.<locals>.predict_function at 0x0000022183F3DD30> triggered tf.function retracing. Tracing is expensive and the excessive number of tracings could be due to (1) creating @tf.function repeatedly in a loop, (2) passing tensors with different shapes, (3) passing Python objects instead of tensors. For (1), please define your @tf.function outside of the loop. For (2), @tf.function has experimental_relax_shapes=True option that relaxes argument shapes that can avoid unnecessary retracing. For (3), please refer to https://www.tensorflow.org/guide/function#controlling_retracing and https://www.tensorflow.org/api_docs/python/tf/function for  more details.\n"
     ]
    }
   ],
   "source": [
    "a=np.argmax(model.predict(x), axis=1)"
   ]
  },
  {
   "cell_type": "code",
   "execution_count": 163,
   "metadata": {},
   "outputs": [
    {
     "data": {
      "text/plain": [
       "'Washer'"
      ]
     },
     "execution_count": 163,
     "metadata": {},
     "output_type": "execute_result"
    }
   ],
   "source": [
    "index=['Bolt', 'Locatingpin', 'Nut', 'Washer', ]\n",
    "result = str(index[a[0]])\n",
    "result"
   ]
  },
  {
   "cell_type": "code",
   "execution_count": 164,
   "metadata": {},
   "outputs": [],
   "source": [
    "import matplotlib.pyplot as plt"
   ]
  },
  {
   "cell_type": "code",
   "execution_count": 165,
   "metadata": {},
   "outputs": [
    {
     "data": {
      "image/png": "[encoded data removed]",
      "text/plain": [
       "<Figure size 432x288 with 1 Axes>"
      ]
     },
     "metadata": {
      "needs_background": "light"
     },
     "output_type": "display_data"
    },
    {
     "data": {
      "text/plain": [
       "<Figure size 432x288 with 0 Axes>"
      ]
     },
     "metadata": {},
     "output_type": "display_data"
    }
   ],
   "source": [
    "# plot the loss\n",
    "plt.plot(res.history['loss'], label='train loss')\n",
    "plt.plot(res.history['val_loss'], label='val loss')\n",
    "plt.legend()\n",
    "plt.show()\n",
    "plt.savefig('LossVal_loss')"
   ]
  },
  {
   "cell_type": "code",
   "execution_count": 166,
   "metadata": {},
   "outputs": [
    {
     "data": {
      "image/png": "[encoded data removed]",
      "text/plain": [
       "<Figure size 432x288 with 1 Axes>"
      ]
     },
     "metadata": {
      "needs_background": "light"
     },
     "output_type": "display_data"
    },
    {
     "data": {
      "text/plain": [
       "<Figure size 432x288 with 0 Axes>"
      ]
     },
     "metadata": {},
     "output_type": "display_data"
    }
   ],
   "source": [
    "# plot the accuracy\n",
    "plt.plot(res.history['acc'], label='train acc')\n",
    "plt.plot(res.history['val_acc'], label='val acc')\n",
    "plt.legend()\n",
    "plt.show()\n",
    "plt.savefig('AccVal_acc')"
   ]
  },
  {
   "cell_type": "code",
   "execution_count": null,
   "metadata": {},
   "outputs": [],
   "source": []
  }
 ],
 "metadata": {
  "kernelspec": {
   "display_name": "Python 3",
   "language": "python",
   "name": "python3"
  },
  "language_info": {
   "codemirror_mode": {
    "name": "ipython",
    "version": 3
   },
   "file_extension": ".py",
   "mimetype": "text/x-python",
   "name": "python",
   "nbconvert_exporter": "python",
   "pygments_lexer": "ipython3",
   "version": "3.8.5"
  }
 },
 "nbformat": 4,
 "nbformat_minor": 4
}
